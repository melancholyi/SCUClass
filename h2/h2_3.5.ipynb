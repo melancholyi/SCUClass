{
 "cells": [
  {
   "cell_type": "code",
   "execution_count": 1,
   "metadata": {},
   "outputs": [],
   "source": [
    "import numpy as np\n",
    "import matplotlib.pyplot as plt\n",
    "import pandas as pd"
   ]
  },
  {
   "cell_type": "code",
   "execution_count": 2,
   "metadata": {},
   "outputs": [
    {
     "data": {
      "text/html": [
       "<div>\n",
       "<style scoped>\n",
       "    .dataframe tbody tr th:only-of-type {\n",
       "        vertical-align: middle;\n",
       "    }\n",
       "\n",
       "    .dataframe tbody tr th {\n",
       "        vertical-align: top;\n",
       "    }\n",
       "\n",
       "    .dataframe thead th {\n",
       "        text-align: right;\n",
       "    }\n",
       "</style>\n",
       "<table border=\"1\" class=\"dataframe\">\n",
       "  <thead>\n",
       "    <tr style=\"text-align: right;\">\n",
       "      <th></th>\n",
       "      <th>density</th>\n",
       "      <th>sugarContent</th>\n",
       "      <th>isGood</th>\n",
       "    </tr>\n",
       "  </thead>\n",
       "  <tbody>\n",
       "    <tr>\n",
       "      <th>0</th>\n",
       "      <td>0.697</td>\n",
       "      <td>0.460</td>\n",
       "      <td>1</td>\n",
       "    </tr>\n",
       "    <tr>\n",
       "      <th>1</th>\n",
       "      <td>0.774</td>\n",
       "      <td>0.376</td>\n",
       "      <td>1</td>\n",
       "    </tr>\n",
       "    <tr>\n",
       "      <th>2</th>\n",
       "      <td>0.634</td>\n",
       "      <td>0.264</td>\n",
       "      <td>1</td>\n",
       "    </tr>\n",
       "    <tr>\n",
       "      <th>3</th>\n",
       "      <td>0.608</td>\n",
       "      <td>0.318</td>\n",
       "      <td>1</td>\n",
       "    </tr>\n",
       "    <tr>\n",
       "      <th>4</th>\n",
       "      <td>0.556</td>\n",
       "      <td>0.215</td>\n",
       "      <td>1</td>\n",
       "    </tr>\n",
       "  </tbody>\n",
       "</table>\n",
       "</div>"
      ],
      "text/plain": [
       "   density  sugarContent  isGood\n",
       "0    0.697         0.460       1\n",
       "1    0.774         0.376       1\n",
       "2    0.634         0.264       1\n",
       "3    0.608         0.318       1\n",
       "4    0.556         0.215       1"
      ]
     },
     "execution_count": 2,
     "metadata": {},
     "output_type": "execute_result"
    }
   ],
   "source": [
    "# read dataset\n",
    "data = pd.read_excel(\"watermelon3.0Alpha.xlsx\")\n",
    "data.columns = ['density','sugarContent','isGood']\n",
    "data.head(5)"
   ]
  },
  {
   "cell_type": "code",
   "execution_count": 26,
   "metadata": {},
   "outputs": [
    {
     "data": {
      "text/plain": [
       "[array([0.666, 0.091]),\n",
       " array([0.243, 0.267]),\n",
       " array([0.245, 0.057]),\n",
       " array([0.343, 0.099]),\n",
       " array([0.639, 0.161]),\n",
       " array([0.657, 0.198]),\n",
       " array([0.36, 0.37]),\n",
       " array([0.593, 0.042]),\n",
       " array([0.719, 0.103])]"
      ]
     },
     "execution_count": 26,
     "metadata": {},
     "output_type": "execute_result"
    }
   ],
   "source": [
    "# get two class\n",
    "data_np  = np.array(data)\n",
    "data1 = []\n",
    "data0 = []\n",
    "for x in data_np:\n",
    "    if x[2] == 1:\n",
    "        data1.append(x[[0,1]])\n",
    "    else :\n",
    "        data0.append(x[[0,1]])\n",
    "data0"
   ]
  },
  {
   "cell_type": "code",
   "execution_count": 31,
   "metadata": {},
   "outputs": [
    {
     "data": {
      "text/plain": [
       "array([0.49611111, 0.15422222])"
      ]
     },
     "execution_count": 31,
     "metadata": {},
     "output_type": "execute_result"
    }
   ],
   "source": [
    "mean0 = np.mean(data0)\n",
    "mean1 = np.mean(data1)\n",
    "mean0\n"
   ]
  },
  {
   "cell_type": "code",
   "execution_count": 34,
   "metadata": {},
   "outputs": [],
   "source": [
    "diff1 = data1 - mean1\n",
    "diff0 = data0 - mean0\n",
    "# 协方差\n",
    "cov1 = np.dot(np.transpose(diff1), diff1)\n",
    "cov0 = np.dot(np.transpose(diff0), diff0)\n",
    "# 类内散度矩阵\n",
    "Sw = cov1 + cov0\n",
    "# 类间散度矩阵\n",
    "Sb=np.dot(np.transpose(mean0-mean1),(mean0-mean1))\n",
    "Sw_Inv=np.linalg.inv(Sw)\n",
    "# weight\n",
    "w=np.dot(Sw_Inv,mean0-mean1)\n"
   ]
  },
  {
   "cell_type": "code",
   "execution_count": 39,
   "metadata": {},
   "outputs": [
    {
     "data": {
      "image/png": "[encoded data removed]",
      "text/plain": [
       "<Figure size 432x288 with 1 Axes>"
      ]
     },
     "metadata": {
      "needs_background": "light"
     },
     "output_type": "display_data"
    }
   ],
   "source": [
    "# daraw line\n",
    "plt.xlabel(\"density\")\n",
    "plt.ylabel(\"sugarContent\")\n",
    "plt.xlim(xmax = 0.9,xmin = -0.3)\n",
    "plt.ylim(ymax = 0.6,ymin = -0.3)\n",
    "x1 = []\n",
    "y1 = []\n",
    "x2 = []\n",
    "y2 = []\n",
    "for x in data_np:\n",
    "    if x[2]==1:\n",
    "        x1.append(x[0])\n",
    "        y1.append(x[1])\n",
    "    else:\n",
    "        x2.append(x[0])\n",
    "        y2.append(x[1])\n",
    "colors1 = '#00CED1'  # 点的颜色\n",
    "colors2 = '#DC143C'\n",
    "area = np.pi * 4 ** 2  # 点面积\n",
    "plt.scatter(x1, y1, s=area, c=colors1, alpha=0.4, label='Good')\n",
    "plt.scatter(x2, y2, s=area, c=colors2, alpha=0.4, label='Bad')\n",
    "plt.plot([0, 9.5], [9.5, 0], linewidth='0.5', color='#000000')\n",
    "# plot line\n",
    "w = w.flatten()\n",
    "x1 = np.linspace(-1, 1, 102)\n",
    "x2 = -w[0] * x1 / w[1]\n",
    "plt.plot(x1, x2, label=\"LDA\")\n",
    "plt.legend()\n",
    "plt.savefig('imgs/h2_3.5.png', dpi=300)\n",
    "plt.show()\n"
   ]
  },
  {
   "cell_type": "code",
   "execution_count": null,
   "metadata": {},
   "outputs": [],
   "source": []
  }
 ],
 "metadata": {
  "kernelspec": {
   "display_name": "Python 3 (ipykernel)",
   "language": "python",
   "name": "python3"
  },
  "language_info": {
   "codemirror_mode": {
    "name": "ipython",
    "version": 3
   },
   "file_extension": ".py",
   "mimetype": "text/x-python",
   "name": "python",
   "nbconvert_exporter": "python",
   "pygments_lexer": "ipython3",
   "version": "3.9.0"
  },
  "vscode": {
   "interpreter": {
    "hash": "b4014b60265de7f80a801ece3da4a480cce03f2136c91739134aaed5b8cdff47"
   }
  }
 },
 "nbformat": 4,
 "nbformat_minor": 2
}
