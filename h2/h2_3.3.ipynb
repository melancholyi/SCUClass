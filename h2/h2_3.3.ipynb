{
 "cells": [
  {
   "cell_type": "code",
   "execution_count": 1,
   "metadata": {},
   "outputs": [],
   "source": [
    "import numpy as np\n",
    "import matplotlib.pyplot as plt\n",
    "import pandas as pd"
   ]
  },
  {
   "cell_type": "code",
   "execution_count": 2,
   "metadata": {},
   "outputs": [
    {
     "data": {
      "text/html": [
       "<div>\n",
       "<style scoped>\n",
       "    .dataframe tbody tr th:only-of-type {\n",
       "        vertical-align: middle;\n",
       "    }\n",
       "\n",
       "    .dataframe tbody tr th {\n",
       "        vertical-align: top;\n",
       "    }\n",
       "\n",
       "    .dataframe thead th {\n",
       "        text-align: right;\n",
       "    }\n",
       "</style>\n",
       "<table border=\"1\" class=\"dataframe\">\n",
       "  <thead>\n",
       "    <tr style=\"text-align: right;\">\n",
       "      <th></th>\n",
       "      <th>density</th>\n",
       "      <th>sugarContent</th>\n",
       "      <th>isGood</th>\n",
       "    </tr>\n",
       "  </thead>\n",
       "  <tbody>\n",
       "    <tr>\n",
       "      <th>0</th>\n",
       "      <td>0.697</td>\n",
       "      <td>0.460</td>\n",
       "      <td>1</td>\n",
       "    </tr>\n",
       "    <tr>\n",
       "      <th>1</th>\n",
       "      <td>0.774</td>\n",
       "      <td>0.376</td>\n",
       "      <td>1</td>\n",
       "    </tr>\n",
       "    <tr>\n",
       "      <th>2</th>\n",
       "      <td>0.634</td>\n",
       "      <td>0.264</td>\n",
       "      <td>1</td>\n",
       "    </tr>\n",
       "    <tr>\n",
       "      <th>3</th>\n",
       "      <td>0.608</td>\n",
       "      <td>0.318</td>\n",
       "      <td>1</td>\n",
       "    </tr>\n",
       "    <tr>\n",
       "      <th>4</th>\n",
       "      <td>0.556</td>\n",
       "      <td>0.215</td>\n",
       "      <td>1</td>\n",
       "    </tr>\n",
       "  </tbody>\n",
       "</table>\n",
       "</div>"
      ],
      "text/plain": [
       "   density  sugarContent  isGood\n",
       "0    0.697         0.460       1\n",
       "1    0.774         0.376       1\n",
       "2    0.634         0.264       1\n",
       "3    0.608         0.318       1\n",
       "4    0.556         0.215       1"
      ]
     },
     "execution_count": 2,
     "metadata": {},
     "output_type": "execute_result"
    }
   ],
   "source": [
    "# read dataset\n",
    "data = pd.read_excel(\"watermelon3.0Alpha.xlsx\")\n",
    "data.columns = ['density','sugarContent','isGood']\n",
    "data.head(5)"
   ]
  },
  {
   "cell_type": "markdown",
   "metadata": {},
   "source": [
    "# 3.3 对率回归"
   ]
  },
  {
   "cell_type": "code",
   "execution_count": 3,
   "metadata": {},
   "outputs": [],
   "source": [
    "def sigmoid(x):\n",
    "    y =1.0 / ( 1 + np.exp(-x))\n",
    "    return y"
   ]
  },
  {
   "cell_type": "code",
   "execution_count": 4,
   "metadata": {},
   "outputs": [],
   "source": [
    "#梯度上升算法\n",
    "def grad(train_X,labels,iters = 2000,lr = 0.05):\n",
    "    m,n = train_X.shape\n",
    "    \n",
    "    # init weight\n",
    "    weights = np.ones((n,1))\n",
    "\n",
    "    for k in range(iters):\n",
    "        # updata\n",
    "        P = sigmoid(train_X.dot(weights))\n",
    "        error = labels - P\n",
    "        weights += lr * np.dot(train_X.T,error)\n",
    "\n",
    "    return weights"
   ]
  },
  {
   "cell_type": "code",
   "execution_count": 5,
   "metadata": {},
   "outputs": [
    {
     "data": {
      "text/html": [
       "<div>\n",
       "<style scoped>\n",
       "    .dataframe tbody tr th:only-of-type {\n",
       "        vertical-align: middle;\n",
       "    }\n",
       "\n",
       "    .dataframe tbody tr th {\n",
       "        vertical-align: top;\n",
       "    }\n",
       "\n",
       "    .dataframe thead th {\n",
       "        text-align: right;\n",
       "    }\n",
       "</style>\n",
       "<table border=\"1\" class=\"dataframe\">\n",
       "  <thead>\n",
       "    <tr style=\"text-align: right;\">\n",
       "      <th></th>\n",
       "      <th>density</th>\n",
       "      <th>sugarContent</th>\n",
       "      <th>isGood</th>\n",
       "      <th>b</th>\n",
       "    </tr>\n",
       "  </thead>\n",
       "  <tbody>\n",
       "    <tr>\n",
       "      <th>0</th>\n",
       "      <td>0.697</td>\n",
       "      <td>0.460</td>\n",
       "      <td>1</td>\n",
       "      <td>1.0</td>\n",
       "    </tr>\n",
       "    <tr>\n",
       "      <th>1</th>\n",
       "      <td>0.774</td>\n",
       "      <td>0.376</td>\n",
       "      <td>1</td>\n",
       "      <td>1.0</td>\n",
       "    </tr>\n",
       "    <tr>\n",
       "      <th>2</th>\n",
       "      <td>0.634</td>\n",
       "      <td>0.264</td>\n",
       "      <td>1</td>\n",
       "      <td>1.0</td>\n",
       "    </tr>\n",
       "    <tr>\n",
       "      <th>3</th>\n",
       "      <td>0.608</td>\n",
       "      <td>0.318</td>\n",
       "      <td>1</td>\n",
       "      <td>1.0</td>\n",
       "    </tr>\n",
       "    <tr>\n",
       "      <th>4</th>\n",
       "      <td>0.556</td>\n",
       "      <td>0.215</td>\n",
       "      <td>1</td>\n",
       "      <td>1.0</td>\n",
       "    </tr>\n",
       "  </tbody>\n",
       "</table>\n",
       "</div>"
      ],
      "text/plain": [
       "   density  sugarContent  isGood    b\n",
       "0    0.697         0.460       1  1.0\n",
       "1    0.774         0.376       1  1.0\n",
       "2    0.634         0.264       1  1.0\n",
       "3    0.608         0.318       1  1.0\n",
       "4    0.556         0.215       1  1.0"
      ]
     },
     "execution_count": 5,
     "metadata": {},
     "output_type": "execute_result"
    }
   ],
   "source": [
    "data[\"b\"] = 1.0\n",
    "data.head(5)"
   ]
  },
  {
   "cell_type": "code",
   "execution_count": 6,
   "metadata": {},
   "outputs": [],
   "source": [
    "# create X and label\n",
    "train_x = np.mat(data[[\"b\",\"density\",\"sugarContent\"]])\n",
    "labels = np.mat(data[['isGood']])"
   ]
  },
  {
   "cell_type": "code",
   "execution_count": 7,
   "metadata": {},
   "outputs": [
    {
     "data": {
      "text/plain": [
       "array([[-4.08559863],\n",
       "       [ 2.90970633],\n",
       "       [11.50219396]])"
      ]
     },
     "execution_count": 7,
     "metadata": {},
     "output_type": "execute_result"
    }
   ],
   "source": [
    "# grad slove weight\n",
    "weight = grad(train_x,labels)\n",
    "weight"
   ]
  },
  {
   "cell_type": "code",
   "execution_count": 8,
   "metadata": {},
   "outputs": [
    {
     "data": {
      "image/png": "[encoded data removed]",
      "text/plain": [
       "<Figure size 432x288 with 1 Axes>"
      ]
     },
     "metadata": {
      "needs_background": "light"
     },
     "output_type": "display_data"
    }
   ],
   "source": [
    "# plt\n",
    "x1,y1 = [],[]\n",
    "x2,y2 = [],[]\n",
    "x3,y3 = [],[]\n",
    "x4,y4 = [],[]\n",
    "\n",
    "for k in range(train_x.shape[0]):\n",
    "    if labels[k] == 1:\n",
    "        if sigmoid(np.dot(train_x[k,:],weight)) >= 0.5 :\n",
    "            x1.append(train_x[k,1])\n",
    "            y1.append(train_x[k,2])\n",
    "        else:\n",
    "            x2.append(train_x[k,1])\n",
    "            y2.append(train_x[k,2]) \n",
    "    else:  \n",
    "        if sigmoid(np.dot(train_x[k,:],weight)) < 0.5 :\n",
    "            x3.append(train_x[k,1])\n",
    "            y3.append(train_x[k,2])\n",
    "        else:\n",
    "            x4.append(train_x[k,1])\n",
    "            y4.append(train_x[k,2])\n",
    "            \n",
    "plt.scatter(x1,y1,s=30,c='red')\n",
    "plt.scatter(x2,y2,s=30,c='red',marker='x')\n",
    "plt.scatter(x3,y3,s=30,c='green')\n",
    "plt.scatter(x4,y4,s=30,c='green',marker='x')\n",
    "\n",
    "#draw line w0 + w1x1 +w2x2 = 0\n",
    "X = np.arange(0,0.8,0.01)\n",
    "Y = -(weight[0] + weight[1] * X)/weight[2]\n",
    "\n",
    "\n",
    "plt.plot(X,Y)\n",
    "\n",
    "plt.xlabel('Density')\n",
    "plt.ylabel('Sugar_Content')\n",
    "plt.title(\"LogisticRegression\")\n",
    "plt.savefig(\"imgs/h2_3.3.jpg\",dpi = 800)\n",
    "plt.show()"
   ]
  },
  {
   "cell_type": "code",
   "execution_count": null,
   "metadata": {},
   "outputs": [],
   "source": []
  }
 ],
 "metadata": {
  "kernelspec": {
   "display_name": "Python 3 (ipykernel)",
   "language": "python",
   "name": "python3"
  },
  "language_info": {
   "codemirror_mode": {
    "name": "ipython",
    "version": 3
   },
   "file_extension": ".py",
   "mimetype": "text/x-python",
   "name": "python",
   "nbconvert_exporter": "python",
   "pygments_lexer": "ipython3",
   "version": "3.9.0"
  },
  "vscode": {
   "interpreter": {
    "hash": "b4014b60265de7f80a801ece3da4a480cce03f2136c91739134aaed5b8cdff47"
   }
  }
 },
 "nbformat": 4,
 "nbformat_minor": 2
}
