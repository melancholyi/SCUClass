{
 "cells": [
  {
   "cell_type": "markdown",
   "id": "be9ca574",
   "metadata": {},
   "source": [
    "## make_blobs 产生随机数据然后进行二分类，进而绘制ROC曲线"
   ]
  },
  {
   "cell_type": "markdown",
   "id": "4e741dd9",
   "metadata": {},
   "source": [
    "#### import 库"
   ]
  },
  {
   "cell_type": "code",
   "execution_count": 19,
   "id": "253b614f",
   "metadata": {},
   "outputs": [],
   "source": [
    "import matplotlib.pyplot as plt\n",
    "import numpy as np\n",
    "import pandas as pd\n",
    "from sklearn.svm import SVC\n",
    "from sklearn.metrics import roc_curve\n",
    "from sklearn.metrics import roc_auc_score\n",
    "from sklearn.datasets import make_blobs\n",
    "from sklearn. model_selection import train_test_split\n",
    "from sklearn.metrics import roc_curve"
   ]
  },
  {
   "cell_type": "markdown",
   "id": "20de5ff6",
   "metadata": {},
   "source": [
    "#### 数据集构建"
   ]
  },
  {
   "cell_type": "code",
   "execution_count": 27,
   "id": "4e7f8e47",
   "metadata": {},
   "outputs": [],
   "source": [
    "data_x,data_y = make_blobs(n_samples=(5000,700), cluster_std=[8,3])\n",
    "x_train,x_test,y_train, y_test = train_test_split(data_x,data_y)"
   ]
  },
  {
   "cell_type": "markdown",
   "id": "004fced3",
   "metadata": {},
   "source": [
    "#### 模型训练"
   ]
  },
  {
   "cell_type": "code",
   "execution_count": 28,
   "id": "eac3ba23",
   "metadata": {},
   "outputs": [],
   "source": [
    "clf = SVC(gamma=0.09,probability=True).fit(x_train, y_train)"
   ]
  },
  {
   "cell_type": "markdown",
   "id": "31c4a5bd",
   "metadata": {},
   "source": [
    "#### 绘制ROC曲线"
   ]
  },
  {
   "cell_type": "code",
   "execution_count": 29,
   "id": "6f302bcb",
   "metadata": {},
   "outputs": [
    {
     "data": {
      "image/png": "[encoded data removed]",
      "text/plain": [
       "<Figure size 432x288 with 1 Axes>"
      ]
     },
     "metadata": {
      "needs_background": "light"
     },
     "output_type": "display_data"
    }
   ],
   "source": [
    "auc = roc_auc_score(y_test,clf.predict_proba(x_test)[:,1])\n",
    "# auc = roc_auc_score(y_test,clf.decision_function(X_test))\n",
    "fpr,tpr, thresholds = roc_curve(y_test,clf.decision_function(x_test))\n",
    "plt.plot(fpr,tpr,color='darkorange',label='ROC curve (area = %0.2f)' % auc)\n",
    "plt.plot([0, 1], [0, 1], color='navy', lw=2, linestyle='--')\n",
    "plt.xlim([0.0, 1.0])\n",
    "plt.ylim([0.0, 1.05])\n",
    "plt.xlabel('FP')\n",
    "plt.ylabel('TP')\n",
    "plt.title('ROC')\n",
    "plt.legend(loc=\"lower right\")\n",
    "plt.savefig('suhan.jpg',dpi=800)\n",
    "plt.show()"
   ]
  },
  {
   "cell_type": "code",
   "execution_count": null,
   "id": "87a19983",
   "metadata": {},
   "outputs": [],
   "source": []
  },
  {
   "cell_type": "code",
   "execution_count": null,
   "id": "1586ec65",
   "metadata": {},
   "outputs": [],
   "source": []
  },
  {
   "cell_type": "code",
   "execution_count": null,
   "id": "02a5aa67",
   "metadata": {},
   "outputs": [],
   "source": []
  },
  {
   "cell_type": "code",
   "execution_count": null,
   "id": "9d5ed546",
   "metadata": {},
   "outputs": [],
   "source": []
  }
 ],
 "metadata": {
  "kernelspec": {
   "display_name": "Python 3 (ipykernel)",
   "language": "python",
   "name": "python3"
  },
  "language_info": {
   "codemirror_mode": {
    "name": "ipython",
    "version": 3
   },
   "file_extension": ".py",
   "mimetype": "text/x-python",
   "name": "python",
   "nbconvert_exporter": "python",
   "pygments_lexer": "ipython3",
   "version": "3.9.0"
  }
 },
 "nbformat": 4,
 "nbformat_minor": 5
}
