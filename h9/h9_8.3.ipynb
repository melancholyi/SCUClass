{
 "cells": [
  {
   "cell_type": "code",
   "execution_count": null,
   "id": "fd87a673",
   "metadata": {},
   "outputs": [],
   "source": [
    "import numpy as np\n",
    "import matplotlib.pyplot as plt\n",
    "from numpy import linspace"
   ]
  },
  {
   "cell_type": "code",
   "execution_count": null,
   "id": "bcd93915",
   "metadata": {},
   "outputs": [],
   "source": [
    "\n",
    "def getDataSet():\n",
    "    dataSet = [\n",
    "        [0.697, 0.460, '是'],\n",
    "        [0.774, 0.376, '是'],\n",
    "        [0.634, 0.264, '是'],\n",
    "        [0.608, 0.318, '是'],\n",
    "        [0.556, 0.215, '是'],\n",
    "        [0.403, 0.237, '是'],\n",
    "        [0.481, 0.149, '是'],\n",
    "        [0.437, 0.211, '是'],\n",
    "        [0.666, 0.091, '否'],\n",
    "        [0.243, 0.267, '否'],\n",
    "        [0.245, 0.057, '否'],\n",
    "        [0.343, 0.099, '否'],\n",
    "        [0.639, 0.161, '否'],\n",
    "        [0.657, 0.198, '否'],\n",
    "        [0.360, 0.370, '否'],\n",
    "        [0.593, 0.042, '否'],\n",
    "        [0.719, 0.103, '否']\n",
    "    ]\n",
    "\n",
    "    # 将是否为好瓜的字符替换为数字。替换是因为不想其他列的数值变成字符变量。\n",
    "    for i in range(len(dataSet)):   # '是'换为1，'否'换为-1。\n",
    "        if dataSet[i][-1] == '是':\n",
    "            dataSet[i][-1] = 1\n",
    "        else:\n",
    "            dataSet[i][-1] = -1\n",
    "\n",
    "    return np.array(dataSet)"
   ]
  },
  {
   "cell_type": "code",
   "execution_count": null,
   "id": "61289328",
   "metadata": {},
   "outputs": [],
   "source": [
    "def calErr(dataSet, feature, threshVal, inequal, D):\n",
    "    \"\"\"\n",
    "    计算数据带权值的错误率。\n",
    "    :param dataSet:     [密度，含糖量，好瓜]\n",
    "    :param feature:     [密度，含糖量]\n",
    "    :param threshVal:\n",
    "    :param inequal:     'lt' or 'gt. (大于或小于）\n",
    "    :param D:           数据的权重。错误分类的数据权重会大。\n",
    "    :return:            错误率。\n",
    "    \"\"\"\n",
    "    DFlatten = D.flatten()   # 变为一维\n",
    "    errCnt = 0\n",
    "    i = 0\n",
    "    if inequal == 'lt':  #如果认为低于阈值为好瓜\n",
    "        for data in dataSet:\n",
    "            if (data[feature] <= threshVal and data[-1] == -1) or \\\n",
    "               (data[feature] > threshVal and data[-1] == 1):  #则错误判断 = 低于阈值且为坏瓜 + 高于阈值且为好瓜\n",
    "                errCnt += 1 * DFlatten[i]  #该样本的权重作为错误率\n",
    "            i += 1\n",
    "    else:\n",
    "        for data in dataSet:\n",
    "            if (data[feature] >= threshVal and data[-1] == -1) or \\\n",
    "               (data[feature] < threshVal and data[-1] == 1):\n",
    "                errCnt += 1 * DFlatten[i]\n",
    "            i += 1\n",
    "    return errCnt"
   ]
  },
  {
   "cell_type": "code",
   "execution_count": null,
   "id": "df426a72",
   "metadata": {},
   "outputs": [],
   "source": [
    "def buildStump(dataSet, D):\n",
    "    m, n = dataSet.shape\n",
    "    bestErr = np.inf\n",
    "    bestStump = {}\n",
    "    numSteps = 16.0  # 每个特征迭代的步数\n",
    "    for i in range(n-1):                    # 对第i个特征\n",
    "        rangeMin = dataSet[:, i].min()\n",
    "        rangeMax = dataSet[:, i].max()  # 每个属性列的最大最小值\n",
    "        stepSize = (rangeMax - rangeMin) / numSteps  # 每一步的长度\n",
    "        for j in range(m):                  # 对第j个数据\n",
    "            threVal = rangeMin + float(j) * stepSize  # 每一步划分的阈值\n",
    "            #threVal = dataSet[j][i]\n",
    "            for inequal in ['lt', 'gt']:    # 对于大于或等于符号划分。\n",
    "                err = calErr(dataSet, i, threVal, inequal, D)  # 错误率\n",
    "                if err < bestErr:           # 如果错误更低，保存划分信息。\n",
    "                    bestErr = err\n",
    "                    bestStump[\"feature\"] = i\n",
    "                    bestStump[\"threshVal\"] = threVal\n",
    "                    bestStump[\"inequal\"] = inequal\n",
    "                    bestStump[\"err\"] = err\n",
    "\n",
    "    return bestStump\n"
   ]
  },
  {
   "cell_type": "code",
   "execution_count": null,
   "id": "dfb808c7",
   "metadata": {},
   "outputs": [],
   "source": [
    "def predict(data, bestStump):\n",
    "    if bestStump[\"inequal\"] == 'lt':\n",
    "        if data[bestStump[\"feature\"]] <= bestStump[\"threshVal\"]:\n",
    "            return 1\n",
    "        else:\n",
    "            return -1\n",
    "    else:\n",
    "        if data[bestStump[\"feature\"]] >= bestStump[\"threshVal\"]:\n",
    "            return 1\n",
    "        else:\n",
    "            return -1"
   ]
  },
  {
   "cell_type": "code",
   "execution_count": null,
   "id": "6f5d79ae",
   "metadata": {},
   "outputs": [],
   "source": [
    "def AdaBoost(dataSet, T):\n",
    "    m, n = dataSet.shape\n",
    "    D = np.ones((1, m)) / m                      # 初始化权重，每个样本的初始权重是相同的。\n",
    "    classLabel = dataSet[:, -1].reshape(1, -1)   # 数据的类标签。\n",
    "    G = {}      # 保存分类器的字典，\n",
    "\n",
    "    for t in range(T):\n",
    "        stump = buildStump(dataSet, D)           # 根据样本权重D建立一个决策树桩\n",
    "        err = stump[\"err\"]\n",
    "        alpha = np.log((1 - err) / err) / 2      # 第t个分类器的权值\n",
    "        # 更新训练数据集的权值分布\n",
    "        pre = np.zeros((1, m))\n",
    "        for i in range(m):\n",
    "            pre[0][i] = predict(dataSet[i], stump)\n",
    "        a = np.exp(-alpha * classLabel * pre)\n",
    "        D = D * a / np.dot(D, a.T)\n",
    "\n",
    "        G[t] = {}\n",
    "        G[t][\"alpha\"] = alpha\n",
    "        G[t][\"stump\"] = stump\n",
    "    return G"
   ]
  },
  {
   "cell_type": "code",
   "execution_count": 6,
   "id": "c62585dd",
   "metadata": {},
   "outputs": [],
   "source": [
    "def adaPredic(data, G):\n",
    "    score = 0\n",
    "    for key in G.keys():\n",
    "        pre = predict(data, G[key][\"stump\"])  #每个基分类器的预测结果\n",
    "        score += G[key][\"alpha\"] * pre        #加权结合后的集成预测结果\n",
    "    flag = 0\n",
    "    if score > 0:\n",
    "        flag = 1\n",
    "    else:\n",
    "        flag = -1\n",
    "    return flag"
   ]
  },
  {
   "cell_type": "code",
   "execution_count": 10,
   "id": "ce25e6ae",
   "metadata": {},
   "outputs": [],
   "source": [
    "def calcAcc(dataSet, G):\n",
    "    rightCnt = 0\n",
    "    for data in dataSet:\n",
    "        pre = adaPredic(data, G)\n",
    "        if pre == data[-1]:\n",
    "            rightCnt += 1\n",
    "    return rightCnt / float(len(dataSet))"
   ]
  },
  {
   "cell_type": "code",
   "execution_count": 8,
   "id": "68889e0c",
   "metadata": {},
   "outputs": [],
   "source": [
    "# 绘制数据集，clf为获得的集成学习器\n",
    "def plotData(data, clf):\n",
    "    X1, X2 = [], []\n",
    "    Y1, Y2 = [], []\n",
    "    datas=data\n",
    "    labels=data[:,2]\n",
    "    #print(np.argwhere(data==1))\n",
    "    for data, label in zip(datas, labels):\n",
    "        if label > 0:\n",
    "            X1.append(data[0])\n",
    "            Y1.append(data[1])\n",
    "        else:\n",
    "            X2.append(data[0])\n",
    "            Y2.append(data[1])\n",
    "\n",
    "    x = linspace(0, 0.8, 100)\n",
    "    y = linspace(0, 0.6, 100)\n",
    "\n",
    "    for key in clf.keys():\n",
    "        #print(clf[key][\"stump\"][\"threshVal\"])\n",
    "        z = [clf[key][\"stump\"][\"threshVal\"]]*100\n",
    "        if clf[key][\"stump\"][\"feature\"] == 0:\n",
    "            plt.plot(z, y)\n",
    "        else:\n",
    "            plt.plot(x, z)\n",
    "\n",
    "    plt.scatter(X1, Y1, marker='+', label='好瓜', color='b')\n",
    "    plt.scatter(X2, Y2, marker='_', label='坏瓜', color='r')\n",
    "\n",
    "    plt.xlabel('密度')\n",
    "    plt.ylabel('含糖率')\n",
    "    plt.xlim(0, 0.8)  # 设置x轴范围\n",
    "    plt.ylim(0, 0.6)  # 设置y轴范围\n",
    "    plt.rcParams['font.sans-serif'] = ['SimHei']  # 用来正常显示中文标签\n",
    "    plt.legend(loc='upper left')\n",
    "    plt.show()"
   ]
  },
  {
   "cell_type": "code",
   "execution_count": 9,
   "id": "cc45edbf",
   "metadata": {},
   "outputs": [
    {
     "name": "stdout",
     "output_type": "stream",
     "text": [
      "集成学习器（字典）： G3 = {0: {'alpha': 0.7702225204735745, 'stump': {'feature': 1, 'threshVal': 0.19875, 'inequal': 'gt', 'err': 0.1764705882352941}}, 1: {'alpha': 0.7630281517475247, 'stump': {'feature': 0, 'threshVal': 0.37575000000000003, 'inequal': 'gt', 'err': 0.17857142857142855}}, 2: {'alpha': 0.5988515956561702, 'stump': {'feature': 0, 'threshVal': 0.7408125000000001, 'inequal': 'gt', 'err': 0.23188405797101452}}}\n",
      "准确率= 0.9411764705882353\n"
     ]
    },
    {
     "data": {
      "image/png": "[encoded data removed]",
      "text/plain": [
       "<Figure size 432x288 with 1 Axes>"
      ]
     },
     "metadata": {
      "needs_background": "light"
     },
     "output_type": "display_data"
    },
    {
     "name": "stdout",
     "output_type": "stream",
     "text": [
      "集成学习器（字典）： G5 = {0: {'alpha': 0.7702225204735745, 'stump': {'feature': 1, 'threshVal': 0.19875, 'inequal': 'gt', 'err': 0.1764705882352941}}, 1: {'alpha': 0.7630281517475247, 'stump': {'feature': 0, 'threshVal': 0.37575000000000003, 'inequal': 'gt', 'err': 0.17857142857142855}}, 2: {'alpha': 0.5988515956561702, 'stump': {'feature': 0, 'threshVal': 0.7408125000000001, 'inequal': 'gt', 'err': 0.23188405797101452}}, 3: {'alpha': 0.517116813427337, 'stump': {'feature': 1, 'threshVal': 0.12037500000000001, 'inequal': 'gt', 'err': 0.2622641509433963}}, 4: {'alpha': 0.38449883125155576, 'stump': {'feature': 1, 'threshVal': 0.381625, 'inequal': 'gt', 'err': 0.31669597186700765}}}\n",
      "准确率= 0.9411764705882353\n"
     ]
    },
    {
     "data": {
      "image/png": "[encoded data removed]",
      "text/plain": [
       "<Figure size 432x288 with 1 Axes>"
      ]
     },
     "metadata": {
      "needs_background": "light"
     },
     "output_type": "display_data"
    },
    {
     "name": "stdout",
     "output_type": "stream",
     "text": [
      "集成学习器（字典）： G11 = {0: {'alpha': 0.7702225204735745, 'stump': {'feature': 1, 'threshVal': 0.19875, 'inequal': 'gt', 'err': 0.1764705882352941}}, 1: {'alpha': 0.7630281517475247, 'stump': {'feature': 0, 'threshVal': 0.37575000000000003, 'inequal': 'gt', 'err': 0.17857142857142855}}, 2: {'alpha': 0.5988515956561702, 'stump': {'feature': 0, 'threshVal': 0.7408125000000001, 'inequal': 'gt', 'err': 0.23188405797101452}}, 3: {'alpha': 0.517116813427337, 'stump': {'feature': 1, 'threshVal': 0.12037500000000001, 'inequal': 'gt', 'err': 0.2622641509433963}}, 4: {'alpha': 0.38449883125155576, 'stump': {'feature': 1, 'threshVal': 0.381625, 'inequal': 'gt', 'err': 0.31669597186700765}}, 5: {'alpha': 0.47604085356392073, 'stump': {'feature': 0, 'threshVal': 0.37575000000000003, 'inequal': 'gt', 'err': 0.2784663666224749}}, 6: {'alpha': 0.5942588663532777, 'stump': {'feature': 0, 'threshVal': 0.574875, 'inequal': 'lt', 'err': 0.23352414290742707}}, 7: {'alpha': 0.36278381315927144, 'stump': {'feature': 0, 'threshVal': 0.37575000000000003, 'inequal': 'gt', 'err': 0.32616813391658545}}, 8: {'alpha': 0.5331663215215913, 'stump': {'feature': 1, 'threshVal': 0.381625, 'inequal': 'gt', 'err': 0.2561011394488732}}, 9: {'alpha': 0.4485878016499322, 'stump': {'feature': 1, 'threshVal': 0.19875, 'inequal': 'gt', 'err': 0.28963125739863155}}, 10: {'alpha': 0.5858601163372882, 'stump': {'feature': 0, 'threshVal': 0.37575000000000003, 'inequal': 'gt', 'err': 0.23654418489732032}}}\n",
      "准确率= 1.0\n"
     ]
    },
    {
     "data": {
      "image/png": "[encoded data removed]",
      "text/plain": [
       "<Figure size 432x288 with 1 Axes>"
      ]
     },
     "metadata": {
      "needs_background": "light"
     },
     "output_type": "display_data"
    }
   ],
   "source": [
    "\n",
    "dataSet = getDataSet()\n",
    "for t in [3, 5, 11]:   # 学习器的数量\n",
    "    G = AdaBoost(dataSet, t)\n",
    "    print('集成学习器（字典）：',f\"G{t} = {G}\")\n",
    "    print('准确率=',calcAcc(dataSet, G))\n",
    "    #绘图函数\n",
    "    plotData(dataSet,G)\n",
    "\n"
   ]
  },
  {
   "cell_type": "code",
   "execution_count": null,
   "id": "daedfed3",
   "metadata": {},
   "outputs": [],
   "source": []
  }
 ],
 "metadata": {
  "kernelspec": {
   "display_name": "Python 3 (ipykernel)",
   "language": "python",
   "name": "python3"
  },
  "language_info": {
   "codemirror_mode": {
    "name": "ipython",
    "version": 3
   },
   "file_extension": ".py",
   "mimetype": "text/x-python",
   "name": "python",
   "nbconvert_exporter": "python",
   "pygments_lexer": "ipython3",
   "version": "3.9.0"
  }
 },
 "nbformat": 4,
 "nbformat_minor": 5
}
