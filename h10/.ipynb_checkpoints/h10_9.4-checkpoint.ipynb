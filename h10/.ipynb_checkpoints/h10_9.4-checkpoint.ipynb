{
 "cells": [
  {
   "cell_type": "code",
   "execution_count": null,
   "id": "f0bff97a",
   "metadata": {},
   "outputs": [],
   "source": [
    "import numpy as np \n",
    "import pandas as pd  \n",
    "import matplotlib.pyplot as plt  \n",
    "import random  \n",
    "import time  "
   ]
  },
  {
   "cell_type": "code",
   "execution_count": null,
   "id": "5029e99c",
   "metadata": {},
   "outputs": [],
   "source": [
    "# 西瓜数据集4.0: 密度 含糖率 标签\n",
    "data = [[0.697, 0.460, 1],\n",
    "        [0.774, 0.376, 1],\n",
    "        [0.634, 0.264, 1],\n",
    "        [0.608, 0.318, 1],\n",
    "        [0.556, 0.215, 1],\n",
    "        [0.430, 0.237, 1],\n",
    "        [0.481, 0.149, 1],\n",
    "        [0.437, 0.211, 1],\n",
    "        [0.666, 0.091, 0],\n",
    "        [0.243, 0.267, 0],\n",
    "        [0.245, 0.057, 0],\n",
    "        [0.343, 0.099, 0],\n",
    "        [0.639, 0.161, 0],\n",
    "        [0.657, 0.198, 0],\n",
    "        [0.360, 0.370, 0],\n",
    "        [0.593, 0.042, 0],\n",
    "        [0.719, 0.103, 0],\n",
    "        [0.359, 0.188, 0],\n",
    "        [0.339, 0.241, 0],\n",
    "        [0.282, 0.257, 0],\n",
    "        [0.748, 0.232, 0],\n",
    "        [0.714, 0.346, 1],\n",
    "        [0.483, 0.312, 1],\n",
    "        [0.478, 0.437, 1],\n",
    "        [0.525, 0.369, 1],\n",
    "        [0.751, 0.489, 1],\n",
    "        [0.532, 0.472, 1],\n",
    "        [0.473, 0.376, 1],\n",
    "        [0.725, 0.445, 1],\n",
    "        [0.446, 0.459, 1]]"
   ]
  },
  {
   "cell_type": "code",
   "execution_count": null,
   "id": "ed427d1f",
   "metadata": {},
   "outputs": [],
   "source": [
    "# 多维数组中创建DataFrame（二维表）,需要为DataFrame赋值columns和index(默认为数字)\n",
    "column = ['density', 'sugar_rate', 'label']\n",
    "dataSet = pd.DataFrame(data, columns=column)"
   ]
  },
  {
   "cell_type": "code",
   "execution_count": null,
   "id": "76ae9d99",
   "metadata": {},
   "outputs": [],
   "source": []
  },
  {
   "cell_type": "code",
   "execution_count": null,
   "id": "5c40eb7e",
   "metadata": {},
   "outputs": [],
   "source": []
  },
  {
   "cell_type": "code",
   "execution_count": null,
   "id": "d7bf5184",
   "metadata": {},
   "outputs": [],
   "source": []
  },
  {
   "cell_type": "code",
   "execution_count": null,
   "id": "375fbe65",
   "metadata": {},
   "outputs": [],
   "source": []
  },
  {
   "cell_type": "code",
   "execution_count": 1,
   "id": "a49c1263",
   "metadata": {},
   "outputs": [
    {
     "name": "stdout",
     "output_type": "stream",
     "text": [
      "本次选取的2个初始向量为[[0.532, 0.472], [0.243, 0.267]]\n",
      "共进行276轮\n",
      "共耗时0.90s\n"
     ]
    },
    {
     "data": {
      "image/png": "[encoded data removed]",
      "text/plain": [
       "<Figure size 432x288 with 1 Axes>"
      ]
     },
     "metadata": {
      "needs_background": "light"
     },
     "output_type": "display_data"
    },
    {
     "name": "stdout",
     "output_type": "stream",
     "text": [
      "本次选取的3个初始向量为[[0.748, 0.232], [0.608, 0.318], [0.532, 0.472]]\n",
      "共进行0轮\n",
      "共耗时0.02s\n"
     ]
    },
    {
     "data": {
      "image/png": "[encoded data removed]",
      "text/plain": [
       "<Figure size 432x288 with 1 Axes>"
      ]
     },
     "metadata": {
      "needs_background": "light"
     },
     "output_type": "display_data"
    },
    {
     "name": "stdout",
     "output_type": "stream",
     "text": [
      "本次选取的4个初始向量为[[0.245, 0.057], [0.282, 0.257], [0.666, 0.091], [0.748, 0.232]]\n",
      "共进行508轮\n",
      "共耗时3.02s\n"
     ]
    },
    {
     "data": {
      "image/png": "[encoded data removed]",
      "text/plain": [
       "<Figure size 432x288 with 1 Axes>"
      ]
     },
     "metadata": {
      "needs_background": "light"
     },
     "output_type": "display_data"
    }
   ],
   "source": [
    "# 创建类K_means\n",
    "class K_means(object):\n",
    "    # 创建__init__方法，在面向对象编程中，给未来创建的对象所定义的进行初始化属性\n",
    "    def __init__(self, k, data, loop_times, error): \n",
    "        self.k = k\n",
    "        self.data = data\n",
    "        self.loop_times = loop_times\n",
    "        self.error = error\n",
    "\n",
    "    def distance(self, p1, p2):\n",
    "        # linalg=linear（线性）+algebra（代数），norm则表示范数\n",
    "        # 求p = 2 时的闵可夫斯基距离，即欧氏距离\n",
    "        return np.linalg.norm(np.array(p1) - np.array(p2))\n",
    "\n",
    "    def fitting(self):\n",
    "        time1 = time.perf_counter()  # 返回性能计数器的值（以分秒为单位），表示程序开始运行到调用这个语句所经历的时间\n",
    "        mean_vectors = random.sample(self.data, self.k)  # 随机选取k个初始样本\n",
    "        initial_main_vectors = mean_vectors\n",
    "        for vec in mean_vectors :\n",
    "            plt.scatter(vec[0], vec[1], s=100, color = 'black', marker='s')  # 画出初始聚类中心，以黑色正方形（square）表示\n",
    "\n",
    "        times = 0\n",
    "        # map(),高阶函数，它接收一个函数 f 和一个 list，并通过把函数 f 依次作用在 list 的每个元素上，得到一个新的 list 并返回\n",
    "        # lambda:返回可调用的函数对象，通常是在需要一个函数，但又不想命名一个函数时使用，lambda x : [x] 表示输入x，输出为[x]\n",
    "        clusters = list(map((lambda x:[x]), mean_vectors))\n",
    "        while times < self.loop_times:\n",
    "            change_flag = 1  # 标记簇均值向量是否改变\n",
    "            for sample in self.data:\n",
    "                dist = []\n",
    "                for vec in mean_vectors:\n",
    "                    dist.append(self.distance(vec, sample))  # 计算样本到每个聚类中心的距离\n",
    "                clusters[dist.index(min(dist))].append(sample)  # 找到离该样本最近的聚类中心，并将它放入该簇\n",
    "\n",
    "            new_mean_vectors = []\n",
    "            for c,v in zip(clusters, mean_vectors):  # zip()将两个对象中对应的元素打包成一个个元组，然后返回由这些元组组成的列表\n",
    "                cluster_num = len(c)\n",
    "                cluster_array = np.array(c)\n",
    "                new_mean_vector = sum(cluster_array) / cluster_num  # 计算出新的聚类簇均值向量\n",
    "                mean_vector = np.array(v)\n",
    "                # np.divide和np.true_divide结果一样（python3.7.2）,np.floor_divide只保留整数结果\n",
    "                # all(iterable):如果iterable(元组或者列表)的所有元素不为0、False或者iterable为空，all(iterable)返回True，否则返回False\n",
    "                if all(np.true_divide((new_mean_vector - mean_vector), mean_vector) < np.array([self.error, self.error])):\n",
    "                    new_mean_vectors.append(mean_vector)  # 均值向量未改变\n",
    "                    change_flag = 0\n",
    "                else:\n",
    "                    # dataFrame转List()，括号不能忘\n",
    "                    new_mean_vectors.append(new_mean_vector.tolist())  # 均值向量发生改变\n",
    "\n",
    "            if change_flag == 1:\n",
    "                mean_vectors = new_mean_vectors\n",
    "            else:\n",
    "                break\n",
    "            times += 1\n",
    "        time2 = time.perf_counter()\n",
    "        # str.format()，基本语法是通过 {} 和 : 来代替以前的 %\n",
    "        print ('本次选取的{}个初始向量为{}'.format(self.k, initial_main_vectors))\n",
    "        print ('共进行{}轮'.format(times))\n",
    "        print ('共耗时{:.2f}s'.format(time2 - time1))  # 取2位小数\n",
    "        for cluster in clusters:\n",
    "            x = list(map(lambda arr: arr[0], cluster))\n",
    "            y = list(map(lambda arr: arr[1], cluster))\n",
    "            plt.scatter(x, y, marker = 'o', label = clusters.index(cluster)+1)\n",
    "\n",
    "        plt.xlabel('密度')\n",
    "        plt.ylabel('含糖率')\n",
    "        plt.rcParams['font.sans-serif'] = ['SimHei']  # 用来正常显示中文标签\n",
    "        plt.legend(loc='upper left')\n",
    "\n",
    "        plt.show()"
   ]
  },
  {
   "cell_type": "code",
   "execution_count": 2,
   "id": "44019cb5",
   "metadata": {},
   "outputs": [
    {
     "name": "stdout",
     "output_type": "stream",
     "text": [
      "本次选取的2个初始向量为[[0.245, 0.057], [0.481, 0.149]]\n",
      "共进行1000轮\n",
      "共耗时11.07s\n"
     ]
    },
    {
     "data": {
      "image/png": "[encoded data removed]",
      "text/plain": [
       "<Figure size 432x288 with 1 Axes>"
      ]
     },
     "metadata": {
      "needs_background": "light"
     },
     "output_type": "display_data"
    },
    {
     "name": "stdout",
     "output_type": "stream",
     "text": [
      "本次选取的3个初始向量为[[0.473, 0.376], [0.481, 0.149], [0.725, 0.445]]\n",
      "共进行0轮\n",
      "共耗时0.09s\n"
     ]
    },
    {
     "data": {
      "image/png": "[encoded data removed]",
      "text/plain": [
       "<Figure size 432x288 with 1 Axes>"
      ]
     },
     "metadata": {
      "needs_background": "light"
     },
     "output_type": "display_data"
    },
    {
     "name": "stdout",
     "output_type": "stream",
     "text": [
      "本次选取的4个初始向量为[[0.657, 0.198], [0.339, 0.241], [0.478, 0.437], [0.473, 0.376]]\n",
      "共进行0轮\n",
      "共耗时0.01s\n"
     ]
    },
    {
     "data": {
      "image/png": "[encoded data removed]",
      "text/plain": [
       "<Figure size 432x288 with 1 Axes>"
      ]
     },
     "metadata": {
      "needs_background": "light"
     },
     "output_type": "display_data"
    }
   ],
   "source": [
    "for i in [2, 3, 4]:\n",
    "    # 调用K_means，执行方法fitting()\n",
    "    k_means = K_means(i, dataSet[['density', 'sugar_rate']].values.tolist(), 1000, 0.0000001)\n",
    "    k_means.fitting()"
   ]
  },
  {
   "cell_type": "code",
   "execution_count": null,
   "id": "4f8e9201",
   "metadata": {},
   "outputs": [],
   "source": []
  }
 ],
 "metadata": {
  "kernelspec": {
   "display_name": "Python 3 (ipykernel)",
   "language": "python",
   "name": "python3"
  },
  "language_info": {
   "codemirror_mode": {
    "name": "ipython",
    "version": 3
   },
   "file_extension": ".py",
   "mimetype": "text/x-python",
   "name": "python",
   "nbconvert_exporter": "python",
   "pygments_lexer": "ipython3",
   "version": "3.9.0"
  }
 },
 "nbformat": 4,
 "nbformat_minor": 5
}
