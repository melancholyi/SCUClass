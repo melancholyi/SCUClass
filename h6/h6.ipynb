{
 "cells": [
  {
   "cell_type": "markdown",
   "id": "42686616",
   "metadata": {},
   "source": [
    "将离散的属性值进行数字化，将属性用英文代替\n",
    "\t青绿-0    乌黑-1   浅白-2；  \n",
    "   蜷缩-0   稍蜷-1   硬挺-2  \n",
    "   浊响-0    沉闷-1   清脆-2  \n",
    "   清晰-0    稍糊-1   模糊-2  \n",
    "   凹陷-0    稍凹-1   平坦-2  \n",
    "   硬滑-0    软粘-1  \n",
    "    是-1 否 -0  \n",
    "    #texture 纹理 umbilical region---脐部  \n",
    "     labels = ['color', 'root', 'Knock sound', 'texture','umbilical region','touch']   \n",
    "    "
   ]
  },
  {
   "cell_type": "code",
   "execution_count": 2,
   "id": "068ce87d",
   "metadata": {},
   "outputs": [],
   "source": [
    "def calcShannonEnt(dataSet):\n",
    "    numEntries = len(dataSet)\n",
    "    labelCounts = {}\n",
    "    for featVec in dataSet: #the the number of unique elements and their occurance\n",
    "        currentLabel = featVec[-1]\n",
    "        if currentLabel not in labelCounts.keys(): labelCounts[currentLabel] = 0\n",
    "        labelCounts[currentLabel] += 1\n",
    "    shannonEnt = 0.0\n",
    "    for key in labelCounts:\n",
    "        prob = float(labelCounts[key])/numEntries\n",
    "        shannonEnt -= prob * log(prob,2) #log base 2\n",
    "    return shannonEnt\n"
   ]
  },
  {
   "cell_type": "code",
   "execution_count": 3,
   "id": "cf8fb47c",
   "metadata": {},
   "outputs": [],
   "source": [
    "from math import log\n",
    "import operator\n",
    "def createDataSet():\n",
    "    dataSet = [\n",
    "        [0, 0, 0, 0, 0, 0, 'yes'], \n",
    "        [1, 0, 1, 0, 0, 0, 'yes'], \n",
    "        [1, 0, 0, 0, 0, 0, 'yes'],\n",
    "        [0, 0, 1, 0, 0, 0, 'yes'],\n",
    "        [2, 0, 0, 0, 0, 0, 'yes'], \n",
    "        [0, 1, 0, 0, 1, 1, 'yes'],\n",
    "        [1, 1, 0, 1, 1, 1, 'yes'],\n",
    "        [1, 1, 0, 0, 1, 0, 'yes'], \n",
    "        [1, 1, 1, 1, 1, 0, 'no'], \n",
    "        [0, 2, 2, 0, 2, 1, 'no'], \n",
    "        [2, 2, 2, 2, 2, 0, 'no'], \n",
    "        [2, 0, 0, 2, 2, 1, 'no'], \n",
    "        [0, 1, 0, 1, 0, 0, 'no'], \n",
    "        [2, 1, 1, 1, 0, 0, 'no'], \n",
    "        [1, 1, 0, 0, 1, 1, 'no'], \n",
    "        [2, 0, 0, 2, 2, 0, 'no'],\n",
    "        [0, 0, 1, 1, 1, 0, 'no']\n",
    "    ]\n",
    "    labels = ['color', 'root', 'Knock sound', 'texture','umbilical region','touch'] \n",
    "    #change to discrete values\n",
    "    return dataSet, labels\n"
   ]
  },
  {
   "cell_type": "code",
   "execution_count": 4,
   "id": "8f4028b4",
   "metadata": {},
   "outputs": [],
   "source": [
    "def splitDataSet(dataSet, axis, value):\n",
    "    retDataSet = []\n",
    "    for featVec in dataSet:\n",
    "        if featVec[axis] == value:\n",
    "            reducedFeatVec = featVec[:axis]     #chop out axis used for splitting\n",
    "            reducedFeatVec.extend(featVec[axis+1:])\n",
    "            retDataSet.append(reducedFeatVec)\n",
    "    return retDataSet\n"
   ]
  },
  {
   "cell_type": "code",
   "execution_count": 5,
   "id": "7ef00c1b",
   "metadata": {},
   "outputs": [],
   "source": [
    "def chooseBestFeatureToSplit(dataSet):\n",
    "    numFeatures = len(dataSet[0]) - 1      #the last column is used for the labels\n",
    "    baseEntropy = calcShannonEnt(dataSet)\n",
    "    bestInfoGain = 0.0; bestFeature = -1\n",
    "    for i in range(numFeatures):        #iterate over all the features\n",
    "        featList = [example[i] for example in dataSet]#create a list of all the examples of this feature\n",
    "        uniqueVals = set(featList)       #get a set of unique values\n",
    "        newEntropy = 0.0\n",
    "        for value in uniqueVals:\n",
    "            subDataSet = splitDataSet(dataSet, i, value)\n",
    "            prob = len(subDataSet)/float(len(dataSet))\n",
    "            newEntropy += prob * calcShannonEnt(subDataSet)     \n",
    "        infoGain = baseEntropy - newEntropy     #calculate the info gain; ie reduction in entropy\n",
    "        if (infoGain > bestInfoGain):       #compare this to the best gain so far\n",
    "            bestInfoGain = infoGain         #if better than current best, set to best\n",
    "            bestFeature = i\n",
    "    return bestFeature \n"
   ]
  },
  {
   "cell_type": "code",
   "execution_count": 6,
   "id": "4fc3f68b",
   "metadata": {},
   "outputs": [],
   "source": [
    "def createTree(dataSet,labels):\n",
    "    classList = [example[-1] for example in dataSet]\n",
    "    if classList.count(classList[0]) == len(classList): \n",
    "        return classList[0]#stop splitting when all of the classes are equal\n",
    "    if len(dataSet[0]) == 1: #stop splitting when there are no more features in dataSet\n",
    "        return majorityCnt(classList)\n",
    "    bestFeat = chooseBestFeatureToSplit(dataSet)\n",
    "    bestFeatLabel = labels[bestFeat]\n",
    "    myTree = {bestFeatLabel:{}}\n",
    "    del(labels[bestFeat])\n",
    "    featValues = [example[bestFeat] for example in dataSet]\n",
    "    uniqueVals = set(featValues)\n",
    "    for value in uniqueVals:\n",
    "        subLabels = labels[:]       #copy all of labels, so trees don't mess up existing labels\n",
    "        myTree[bestFeatLabel][value] = createTree(splitDataSet(dataSet, bestFeat, value),subLabels)\n",
    "    return myTree   \n"
   ]
  },
  {
   "cell_type": "code",
   "execution_count": 7,
   "id": "1e24195d",
   "metadata": {},
   "outputs": [
    {
     "name": "stdout",
     "output_type": "stream",
     "text": [
      "[[0, 0, 0, 0, 0, 0, 'yes'], [1, 0, 1, 0, 0, 0, 'yes'], [1, 0, 0, 0, 0, 0, 'yes'], [0, 0, 1, 0, 0, 0, 'yes'], [2, 0, 0, 0, 0, 0, 'yes'], [0, 1, 0, 0, 1, 1, 'yes'], [1, 1, 0, 1, 1, 1, 'yes'], [1, 1, 0, 0, 1, 0, 'yes'], [1, 1, 1, 1, 1, 0, 'no'], [0, 2, 2, 0, 2, 1, 'no'], [2, 2, 2, 2, 2, 0, 'no'], [2, 0, 0, 2, 2, 1, 'no'], [0, 1, 0, 1, 0, 0, 'no'], [2, 1, 1, 1, 0, 0, 'no'], [1, 1, 0, 0, 1, 1, 'no'], [2, 0, 0, 2, 2, 0, 'no'], [0, 0, 1, 1, 1, 0, 'no']]\n",
      "['color', 'root', 'Knock sound', 'texture', 'umbilical region', 'touch']\n"
     ]
    }
   ],
   "source": [
    "myDat, labels = createDataSet()\n",
    "print(myDat)\n",
    "print(labels)\n"
   ]
  },
  {
   "cell_type": "code",
   "execution_count": 8,
   "id": "0dc08398",
   "metadata": {},
   "outputs": [
    {
     "name": "stdout",
     "output_type": "stream",
     "text": [
      "0.9975025463691153\n",
      "最好的划分属性的下标为：3\n"
     ]
    }
   ],
   "source": [
    "Ent1 = calcShannonEnt(myDat)\n",
    "print(Ent1)\n",
    "\n",
    "bestFeature = chooseBestFeatureToSplit(myDat)\n",
    "print('最好的划分属性的下标为：{}'.format(bestFeature))\n"
   ]
  },
  {
   "cell_type": "code",
   "execution_count": 9,
   "id": "09b38e38",
   "metadata": {},
   "outputs": [
    {
     "data": {
      "text/plain": [
       "{'texture': {0: {'root': {0: 'yes',\n",
       "    1: {'color': {0: 'yes', 1: {'touch': {0: 'yes', 1: 'no'}}}},\n",
       "    2: 'no'}},\n",
       "  1: {'touch': {0: 'no', 1: 'yes'}},\n",
       "  2: 'no'}}"
      ]
     },
     "execution_count": 9,
     "metadata": {},
     "output_type": "execute_result"
    }
   ],
   "source": [
    "myTree = createTree(myDat, labels)\n",
    "myTree\n"
   ]
  },
  {
   "cell_type": "code",
   "execution_count": 10,
   "id": "a571dfef",
   "metadata": {},
   "outputs": [],
   "source": [
    "import matplotlib.pyplot as plt\n",
    "\n",
    "#定义文本框和箭头的形式\n",
    "decisionNode = dict(boxstyle = 'sawtooth', fc = '0.8')\n",
    "leafNode = dict(boxstyle = 'round4', fc = '0.8')\n",
    "arrow_args = dict(arrowstyle = '<-')\n",
    "\n",
    "def plotNode(nodeTxt, centerPt, parentPt, nodeType):\n",
    "    createPlot.ax1.annotate(nodeTxt, xy = parentPt, xycoords = 'axes fraction',\\\n",
    "                           xytext = centerPt, textcoords = 'axes fraction',\\\n",
    "                           va = 'center', ha ='center', bbox = nodeType, arrowprops = arrow_args)\n",
    "    \n",
    "def createPlot():\n",
    "    fig = plt.figure(1, facecolor='white')\n",
    "    fig.clf()\n",
    "    createPlot.ax1 = plt.subplot(111, frameon=False) #ticks for demo puropses \n",
    "    plotNode('a decision node', (0.5, 0.1), (0.1, 0.5), decisionNode)\n",
    "    plotNode('a leaf node', (0.8, 0.1), (0.3, 0.8), leafNode)\n",
    "    plt.show()\n"
   ]
  },
  {
   "cell_type": "code",
   "execution_count": 11,
   "id": "871edf16",
   "metadata": {},
   "outputs": [
    {
     "data": {
      "image/png": "[encoded data removed]",
      "text/plain": [
       "<Figure size 432x288 with 1 Axes>"
      ]
     },
     "metadata": {},
     "output_type": "display_data"
    }
   ],
   "source": [
    "createPlot()#运行结果如下所示\n"
   ]
  },
  {
   "cell_type": "code",
   "execution_count": 12,
   "id": "fce7453c",
   "metadata": {},
   "outputs": [],
   "source": [
    "def getNumLeafs(myTree):\n",
    "    numLeafs = 0\n",
    "    firstStr = list(myTree.keys())[0]\n",
    "    secondDict = myTree[firstStr]\n",
    "    for key in secondDict.keys():\n",
    "        if type(secondDict[key]).__name__=='dict':#test to see if the nodes are dictonaires, if not they are leaf nodes\n",
    "            numLeafs += getNumLeafs(secondDict[key])\n",
    "        else:   numLeafs +=1\n",
    "    return numLeafs\n"
   ]
  },
  {
   "cell_type": "code",
   "execution_count": 13,
   "id": "e327c92f",
   "metadata": {},
   "outputs": [],
   "source": [
    "#获取树的层数\n",
    "def getTreeDepth(myTree):\n",
    "    maxDepth = 0\n",
    "    firstStr = list(myTree.keys())[0]\n",
    "    secondDict = myTree[firstStr]\n",
    "    for key in secondDict.keys():\n",
    "        if type(secondDict[key]).__name__=='dict':#test to see if the nodes are dictonaires, if not they are leaf nodes\n",
    "            thisDepth = 1 + getTreeDepth(secondDict[key])\n",
    "        else:   thisDepth = 1\n",
    "        if thisDepth > maxDepth: maxDepth = thisDepth\n",
    "    return maxDepth\n"
   ]
  },
  {
   "cell_type": "code",
   "execution_count": 14,
   "id": "03569ed3",
   "metadata": {},
   "outputs": [],
   "source": [
    "def retrieveTree(i):\n",
    "    listOfTrees =[{'texture': {0: {'root': {0: 'yes',\n",
    "    1: {'color': {0: 'yes', 1: {'touch': {0: 'yes', 1: 'no'}}}},\n",
    "    2: 'no'}},\n",
    "  1: {'touch': {0: 'no', 1: 'yes'}},\n",
    "  2: 'no'}},\n",
    "                  {'texture': {0: {'root': {0: 'yes',\n",
    "    1: {'color': {0: 'yes', 1: {'touch': {0: 'yes', 1: 'no'}}}},\n",
    "    2: 'no'}},\n",
    "  1: {'touch': {0: 'no', 1: 'yes'}},\n",
    "  2: 'no'}}\n",
    "                 ]\n",
    "    return listOfTrees[i]\n"
   ]
  },
  {
   "cell_type": "code",
   "execution_count": 15,
   "id": "2978224a",
   "metadata": {},
   "outputs": [
    {
     "name": "stdout",
     "output_type": "stream",
     "text": [
      "{'texture': {0: {'root': {0: 'yes', 1: {'color': {0: 'yes', 1: {'touch': {0: 'yes', 1: 'no'}}}}, 2: 'no'}}, 1: {'touch': {0: 'no', 1: 'yes'}}, 2: 'no'}}\n",
      "dict_keys(['texture'])\n",
      "texture\n",
      "树叶节点的数目为：8\n",
      "树的深度为：4\n"
     ]
    }
   ],
   "source": [
    "myTree = retrieveTree(0)\n",
    "print(myTree)\n",
    "\n",
    "print(myTree.keys())\n",
    "print(list(myTree.keys())[0])\n",
    "\n",
    "print('树叶节点的数目为：{}'.format(getNumLeafs(myTree)))\n",
    "print('树的深度为：{}'.format(getTreeDepth(myTree)))\n"
   ]
  },
  {
   "cell_type": "code",
   "execution_count": 16,
   "id": "65f3d4c0",
   "metadata": {},
   "outputs": [],
   "source": [
    "def plotMidText(cntrPt, parentPt, txtString):\n",
    "    xMid = (parentPt[0]-cntrPt[0])/2.0 + cntrPt[0]\n",
    "    yMid = (parentPt[1]-cntrPt[1])/2.0 + cntrPt[1]\n",
    "    createPlot.ax1.text(xMid, yMid, txtString, va=\"center\", ha=\"center\", rotation=30)\n",
    "\n",
    "def plotTree(myTree, parentPt, nodeTxt):#if the first key tells you what feat was split on\n",
    "    numLeafs = getNumLeafs(myTree)  #this determines the x width of this tree\n",
    "    depth = getTreeDepth(myTree)\n",
    "    firstStr = list(myTree.keys())[0]     #the text label for this node should be this\n",
    "    cntrPt = (plotTree.xOff + (1.0 + float(numLeafs))/2.0/plotTree.totalW, plotTree.yOff)\n",
    "    plotMidText(cntrPt, parentPt, nodeTxt)\n",
    "    plotNode(firstStr, cntrPt, parentPt, decisionNode)\n",
    "    secondDict = myTree[firstStr]\n",
    "    plotTree.yOff = plotTree.yOff - 1.0/plotTree.totalD\n",
    "    for key in secondDict.keys():\n",
    "        if type(secondDict[key]).__name__=='dict':#test to see if the nodes are dictonaires, if not they are leaf nodes   \n",
    "            plotTree(secondDict[key],cntrPt,str(key))        #recursion\n",
    "        else:   #it's a leaf node print the leaf node\n",
    "            plotTree.xOff = plotTree.xOff + 1.0/plotTree.totalW\n",
    "            plotNode(secondDict[key], (plotTree.xOff, plotTree.yOff), cntrPt, leafNode)\n",
    "            plotMidText((plotTree.xOff, plotTree.yOff), cntrPt, str(key))\n",
    "    plotTree.yOff = plotTree.yOff + 1.0/plotTree.totalD\n",
    "#if you do get a dictonary you know it's a tree, and the first element will be another dict\n",
    "\n",
    "def createPlot(inTree):\n",
    "    fig = plt.figure(1, facecolor='white')\n",
    "    fig.clf()\n",
    "    axprops = dict(xticks=[], yticks=[])\n",
    "    createPlot.ax1 = plt.subplot(111, frameon=False, **axprops)    #no ticks\n",
    "    plotTree.totalW = float(getNumLeafs(inTree))\n",
    "    plotTree.totalD = float(getTreeDepth(inTree))\n",
    "    plotTree.xOff = -0.5/plotTree.totalW; plotTree.yOff = 1.0;\n",
    "    plotTree(inTree, (0.5,1.0), '')###11111111\n",
    "    plt.show()\n"
   ]
  },
  {
   "cell_type": "code",
   "execution_count": 17,
   "id": "66394029",
   "metadata": {},
   "outputs": [
    {
     "data": {
      "image/png": "[encoded data removed]",
      "text/plain": [
       "<Figure size 432x288 with 1 Axes>"
      ]
     },
     "metadata": {},
     "output_type": "display_data"
    }
   ],
   "source": [
    "myTree = retrieveTree(0)\n",
    "createPlot(myTree)\n"
   ]
  },
  {
   "cell_type": "code",
   "execution_count": null,
   "id": "01fac8db",
   "metadata": {},
   "outputs": [],
   "source": []
  }
 ],
 "metadata": {
  "kernelspec": {
   "display_name": "Python 3 (ipykernel)",
   "language": "python",
   "name": "python3"
  },
  "language_info": {
   "codemirror_mode": {
    "name": "ipython",
    "version": 3
   },
   "file_extension": ".py",
   "mimetype": "text/x-python",
   "name": "python",
   "nbconvert_exporter": "python",
   "pygments_lexer": "ipython3",
   "version": "3.9.0"
  }
 },
 "nbformat": 4,
 "nbformat_minor": 5
}
