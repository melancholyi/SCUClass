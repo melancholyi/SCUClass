{
 "cells": [
  {
   "cell_type": "code",
   "execution_count": 5,
   "metadata": {},
   "outputs": [],
   "source": [
    "import numpy as np\n",
    "import matplotlib.pyplot as plt\n",
    "'''\n",
    "色泽可以根据颜色深度 将浅白作为0、青绿作为1、乌黑作为2\n",
    "根蒂可以根据蜷缩程度 将硬挺作为0、稍蜷作为1、蜷缩作为2\n",
    "敲声可以根据声音音调 将沉闷作为0、浊响作为1、清脆作为2\n",
    "纹理可以根据清晰程度 将清晰作为0、稍糊作为1、模糊作为2\n",
    "脐部可以根据凹陷程度 将平坦作为0、稍凹作为1、凹陷作为2\n",
    "触感可以根据硬滑程度 将软粘作为0、硬滑作为1\n",
    "'''\n",
    "# dataset\n",
    "# row : feature     rol : sample\n",
    "features=np.array([\n",
    "    [1,2,2,1,0,1,2,2,2,1,0,0,1,0,2,0,1],\n",
    "    [2,2,2,2,2,1,1,1,1,0,0,2,1,1,1,2,2],\n",
    "    [1,0,1,0,1,1,1,1,0,2,2,1,1,0,1,1,0],\n",
    "    [0,0,0,0,0,0,1,0,1,0,2,2,1,1,0,2,1],\n",
    "    [2,2,2,2,2,1,1,1,1,0,0,0,2,2,1,0,1],\n",
    "    [1,1,1,1,1,0,0,1,1,0,1,0,1,1,0,1,1],\n",
    "    [0.697,0.774,0.634,0.608,0.556,0.403,0.481,0.437,0.666,0.243,0.245,0.343,0.639,0.657,0.360,0.593,0.719],\n",
    "    [0.460,0.376,0.264,0.318,0.215,0.237,0.149,0.211,0.091,0.267,0.057,0.099,0.161,0.198,0.370,0.042,0.103]\n",
    "])\n",
    "# label\n",
    "labels=np.array([\n",
    "    [1,1,1,1,1,1,1,1,0,0,0,0,0,0,0,0,0]\n",
    "])\n",
    "\n",
    "def sigmoid(X):\n",
    "    return 1./(1+np.exp(-X))\n",
    "class Net():\n",
    "    def __init__(self,num_input=8,num_hidden=10,num_output=1):\n",
    "        #隐含层和输出层的权重和偏置\n",
    "        self.W1=np.random.randn(num_hidden,num_input)\n",
    "        self.b1=np.zeros(num_hidden).reshape(-1,1)\n",
    "        self.W2=np.random.randn(num_output,num_hidden)\n",
    "        self.b2=np.zeros(num_output).reshape(-1,1)\n",
    "        #隐含层和输出层的输出\n",
    "        self.o1=np.zeros(num_hidden).reshape(-1,1)\n",
    "        self.o2=np.zeros(num_output).reshape(-1,1)\n",
    "        #梯度存储变量\n",
    "        self.do2=np.zeros(self.o2.shape)\n",
    "        self.dW2=np.zeros(self.W2.shape)\n",
    "        self.db2=np.zeros(self.b2.shape)\n",
    "        self.do1=np.zeros(self.o1.shape)\n",
    "        self.dW1=np.zeros(self.W1.shape)\n",
    "        self.db1=np.zeros(self.b1.shape)\n",
    "\n",
    "    def forward(self,X):#前向传播\n",
    "        self.input=X\n",
    "        #使用sigmoid函数为激活函数\n",
    "        self.o1=sigmoid(np.matmul(self.W1,self.input)+self.b1)\n",
    "        self.o2=sigmoid(np.matmul(self.W2,self.o1)+self.b2)\n",
    "        return self.o2\n",
    "        \n",
    "    def standard_BP(self,label,lr=0.2):#标准BP 使用均方误差为损失函数\n",
    "        #求梯度\n",
    "        self.do2=self.o2-label\n",
    "        self.dW2=np.matmul(self.do2*self.o2*(1-self.o2),self.o1.reshape(1,-1))\n",
    "        self.db2=self.do2*self.o2*(1-self.o2)\n",
    "        self.do1=np.matmul(self.W2.transpose(),self.do2*self.o2*(1-self.o2))\n",
    "        self.dW1=np.matmul(self.do1*self.o1*(1-self.o1),self.input.reshape(1,-1))\n",
    "        self.db1=self.do1*self.o1*(1-self.o1)\n",
    "        #更新参数\n",
    "        self.W2-=self.dW2*lr\n",
    "        self.b2-=self.db2*lr\n",
    "        self.W1-=self.dW1*lr\n",
    "        self.b1-=self.db1*lr\n",
    "    def accumulate_BP(self,labels,lr=0.2):#累积BP 使用均方误差为损失函数\n",
    "        num=labels.shape[1]#样本数量\n",
    "        #求梯度\n",
    "        self.do2=(self.o2-labels)/num\n",
    "        self.dW2=np.matmul(self.do2*self.o2*(1-self.o2),self.o1.transpose())\n",
    "        self.db2=(self.do2*self.o2*(1-self.o2)).sum(axis=1).reshape(-1,1)\n",
    "        self.do1=np.matmul(self.W2.transpose(),self.do2*self.o2*(1-self.o2))\n",
    "        self.dW1=np.matmul(self.do1*self.o1*(1-self.o1),self.input.transpose())\n",
    "        self.db1=(self.do1*self.o1*(1-self.o1)).sum(axis=1).reshape(-1,1)\n",
    "        #更新参数\n",
    "        self.W2-=self.dW2*lr\n",
    "        self.b2-=self.db2*lr\n",
    "        self.W1-=self.dW1*lr\n",
    "        self.b1-=self.db1*lr\n",
    "        \n",
    "def train_standard_BP(features,labels,lr):\n",
    "    net=Net()\n",
    "    epoch=0\n",
    "    loss=1\n",
    "    all_loss=[]\n",
    "    while loss>0.1:#停止条件\n",
    "        for i in range(features.shape[1]):\n",
    "            X=features[:,i]\n",
    "            Y=labels[0,i]\n",
    "            net.forward(X.reshape(-1,1))\n",
    "            net.standard_BP(Y,lr)\n",
    "        output=net.forward(features)\n",
    "        loss=0.5*((output-labels)**2).sum()\n",
    "        epoch+=1\n",
    "        all_loss.append(loss)\n",
    "    print(\"标准BP\",\"学习率：\",lr,\"\\n终止epoch：\",epoch,\"loss: \",loss)\n",
    "    plt.xlabel(\"epoch\")\n",
    "    plt.ylabel(\"loss\")\n",
    "    plt.plot(all_loss)\n",
    "    plt.show()\n",
    "    \n",
    "def train_accumulate_BP(features,labels,lr=0.2):\n",
    "    net=Net()\n",
    "    epoch=0\n",
    "    loss=1\n",
    "    all_loss=[]\n",
    "    while loss>0.1:#停止条件\n",
    "        output=net.forward(features)\n",
    "        net.accumulate_BP(labels,lr)\n",
    "        loss=0.5*((output-labels)**2).sum()/labels.shape[1]\n",
    "        epoch+=1\n",
    "        all_loss.append(loss)\n",
    "    print()\n",
    "    print(\"累积BP\",\"学习率：\",lr,\"\\n终止epoch：\",epoch,\"loss: \",loss)\n",
    "    plt.xlabel(\"epoch\")\n",
    "    plt.ylabel(\"loss\")\n",
    "    plt.plot(all_loss)\n",
    "    plt.show()\n"
   ]
  },
  {
   "cell_type": "code",
   "execution_count": 7,
   "metadata": {},
   "outputs": [
    {
     "name": "stdout",
     "output_type": "stream",
     "text": [
      "标准BP 学习率： 0.2 \n",
      "终止epoch： 545 loss:  0.09974441157957478\n"
     ]
    },
    {
     "data": {
      "image/png": "[encoded data removed]",
      "text/plain": [
       "<Figure size 432x288 with 1 Axes>"
      ]
     },
     "metadata": {
      "needs_background": "light"
     },
     "output_type": "display_data"
    },
    {
     "name": "stdout",
     "output_type": "stream",
     "text": [
      "\n",
      "累积BP 学习率： 0.2 \n",
      "终止epoch： 62 loss:  0.0998622517341079\n"
     ]
    },
    {
     "data": {
      "image/png": "[encoded data removed]",
      "text/plain": [
       "<Figure size 432x288 with 1 Axes>"
      ]
     },
     "metadata": {
      "needs_background": "light"
     },
     "output_type": "display_data"
    }
   ],
   "source": [
    "train_standard_BP(features,labels,lr=0.2)\n",
    "train_accumulate_BP(features,labels,lr=0.2)"
   ]
  },
  {
   "cell_type": "code",
   "execution_count": null,
   "metadata": {},
   "outputs": [],
   "source": []
  }
 ],
 "metadata": {
  "kernelspec": {
   "display_name": "Python 3 (ipykernel)",
   "language": "python",
   "name": "python3"
  },
  "language_info": {
   "codemirror_mode": {
    "name": "ipython",
    "version": 3
   },
   "file_extension": ".py",
   "mimetype": "text/x-python",
   "name": "python",
   "nbconvert_exporter": "python",
   "pygments_lexer": "ipython3",
   "version": "3.9.0"
  },
  "vscode": {
   "interpreter": {
    "hash": "b4014b60265de7f80a801ece3da4a480cce03f2136c91739134aaed5b8cdff47"
   }
  }
 },
 "nbformat": 4,
 "nbformat_minor": 2
}
